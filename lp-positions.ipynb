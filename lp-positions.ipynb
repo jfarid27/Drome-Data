{
 "cells": [
  {
   "cell_type": "code",
   "execution_count": 1,
   "metadata": {},
   "outputs": [],
   "source": [
    "from ape import networks\n",
    "import pandas as pd\n",
    "from Sugar.controllers.LiquidityPositions import fetch_pools"
   ]
  },
  {
   "cell_type": "code",
   "execution_count": 2,
   "metadata": {},
   "outputs": [
    {
     "name": "stdout",
     "output_type": "stream",
     "text": [
      "INFO: Connecting to a 'rpc-proxy' node.\n"
     ]
    }
   ],
   "source": [
    "pools = None\n",
    "with networks.parse_network_choice(\"base:base:node\") as provider:\n",
    "    pools = fetch_pools(sugar_address=\"0xcDF4AA33Bafba3e5dc5B3ae54ab67324Ef956ABD\", debug=True)"
   ]
  },
  {
   "cell_type": "code",
   "execution_count": 3,
   "metadata": {},
   "outputs": [
    {
     "data": {
      "text/html": [
       "<div>\n",
       "<style scoped>\n",
       "    .dataframe tbody tr th:only-of-type {\n",
       "        vertical-align: middle;\n",
       "    }\n",
       "\n",
       "    .dataframe tbody tr th {\n",
       "        vertical-align: top;\n",
       "    }\n",
       "\n",
       "    .dataframe thead th {\n",
       "        text-align: right;\n",
       "    }\n",
       "</style>\n",
       "<table border=\"1\" class=\"dataframe\">\n",
       "  <thead>\n",
       "    <tr style=\"text-align: right;\">\n",
       "      <th></th>\n",
       "      <th>pool_address</th>\n",
       "      <th>symbol</th>\n",
       "      <th>token0</th>\n",
       "      <th>token1</th>\n",
       "    </tr>\n",
       "  </thead>\n",
       "  <tbody>\n",
       "    <tr>\n",
       "      <th>0</th>\n",
       "      <td>0x723AEf6543aecE026a15662Be4D3fb3424D502A9</td>\n",
       "      <td>vAMM-tBTC/USDbC</td>\n",
       "      <td>0x236aa50979D5f3De3Bd1Eeb40E81137F22ab794b</td>\n",
       "      <td>0xd9aAEc86B65D86f6A7B5B1b0c42FFA531710b6CA</td>\n",
       "    </tr>\n",
       "    <tr>\n",
       "      <th>1</th>\n",
       "      <td>0x2722C8f9B5E2aC72D1f225f8e8c990E449ba0078</td>\n",
       "      <td>vAMM-tBTC/WETH</td>\n",
       "      <td>0x236aa50979D5f3De3Bd1Eeb40E81137F22ab794b</td>\n",
       "      <td>0x4200000000000000000000000000000000000006</td>\n",
       "    </tr>\n",
       "    <tr>\n",
       "      <th>2</th>\n",
       "      <td>0xAf58FDeE432a104a932a899968d60F92838886cd</td>\n",
       "      <td>vAMM-T/WETH</td>\n",
       "      <td>0x26f3901aC8a79c50fb0d8289C74f0d09AdC42E29</td>\n",
       "      <td>0x4200000000000000000000000000000000000006</td>\n",
       "    </tr>\n",
       "    <tr>\n",
       "      <th>3</th>\n",
       "      <td>0x2B7704f1cb9324cD8586B33C6c540CbD64E58237</td>\n",
       "      <td>vAMM-EXTRA/USDbC</td>\n",
       "      <td>0x2dAD3a13ef0C6366220f989157009e501e7938F8</td>\n",
       "      <td>0xd9aAEc86B65D86f6A7B5B1b0c42FFA531710b6CA</td>\n",
       "    </tr>\n",
       "    <tr>\n",
       "      <th>4</th>\n",
       "      <td>0x0B25c51637c43decd6CC1C1e3da4518D54ddb528</td>\n",
       "      <td>sAMM-DOLA/USDbC</td>\n",
       "      <td>0x4621b7A9c75199271F773Ebd9A499dbd165c3191</td>\n",
       "      <td>0xd9aAEc86B65D86f6A7B5B1b0c42FFA531710b6CA</td>\n",
       "    </tr>\n",
       "  </tbody>\n",
       "</table>\n",
       "</div>"
      ],
      "text/plain": [
       "                                 pool_address            symbol  \\\n",
       "0  0x723AEf6543aecE026a15662Be4D3fb3424D502A9   vAMM-tBTC/USDbC   \n",
       "1  0x2722C8f9B5E2aC72D1f225f8e8c990E449ba0078    vAMM-tBTC/WETH   \n",
       "2  0xAf58FDeE432a104a932a899968d60F92838886cd       vAMM-T/WETH   \n",
       "3  0x2B7704f1cb9324cD8586B33C6c540CbD64E58237  vAMM-EXTRA/USDbC   \n",
       "4  0x0B25c51637c43decd6CC1C1e3da4518D54ddb528   sAMM-DOLA/USDbC   \n",
       "\n",
       "                                       token0  \\\n",
       "0  0x236aa50979D5f3De3Bd1Eeb40E81137F22ab794b   \n",
       "1  0x236aa50979D5f3De3Bd1Eeb40E81137F22ab794b   \n",
       "2  0x26f3901aC8a79c50fb0d8289C74f0d09AdC42E29   \n",
       "3  0x2dAD3a13ef0C6366220f989157009e501e7938F8   \n",
       "4  0x4621b7A9c75199271F773Ebd9A499dbd165c3191   \n",
       "\n",
       "                                       token1  \n",
       "0  0xd9aAEc86B65D86f6A7B5B1b0c42FFA531710b6CA  \n",
       "1  0x4200000000000000000000000000000000000006  \n",
       "2  0x4200000000000000000000000000000000000006  \n",
       "3  0xd9aAEc86B65D86f6A7B5B1b0c42FFA531710b6CA  \n",
       "4  0xd9aAEc86B65D86f6A7B5B1b0c42FFA531710b6CA  "
      ]
     },
     "execution_count": 3,
     "metadata": {},
     "output_type": "execute_result"
    }
   ],
   "source": [
    "pools.head()"
   ]
  }
 ],
 "metadata": {
  "kernelspec": {
   "display_name": "Python 3 (ipykernel)",
   "language": "python",
   "name": "python3"
  },
  "language_info": {
   "codemirror_mode": {
    "name": "ipython",
    "version": 3
   },
   "file_extension": ".py",
   "mimetype": "text/x-python",
   "name": "python",
   "nbconvert_exporter": "python",
   "pygments_lexer": "ipython3",
   "version": "3.12.4"
  }
 },
 "nbformat": 4,
 "nbformat_minor": 4
}
